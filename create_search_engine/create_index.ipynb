{
 "cells": [
  {
   "cell_type": "code",
   "execution_count": 1,
   "metadata": {},
   "outputs": [],
   "source": [
    "import json\n",
    "import pandas as pd\n",
    "import numpy as np\n",
    "from sentence_transformers import SentenceTransformer\n",
    "import faiss\n"
   ]
  },
  {
   "cell_type": "code",
   "execution_count": 2,
   "metadata": {},
   "outputs": [],
   "source": [
    "def read_file(path):\n",
    "    with open(f\"{path}\") as f:\n",
    "        objects = json.load(f)\n",
    "    return objects"
   ]
  },
  {
   "cell_type": "code",
   "execution_count": 3,
   "metadata": {},
   "outputs": [],
   "source": [
    "jsons_dict = read_file(\"../../tuning_inference_adapted/data.json\")"
   ]
  },
  {
   "cell_type": "code",
   "execution_count": 4,
   "metadata": {},
   "outputs": [
    {
     "data": {
      "text/html": [
       "<div>\n",
       "<style scoped>\n",
       "    .dataframe tbody tr th:only-of-type {\n",
       "        vertical-align: middle;\n",
       "    }\n",
       "\n",
       "    .dataframe tbody tr th {\n",
       "        vertical-align: top;\n",
       "    }\n",
       "\n",
       "    .dataframe thead th {\n",
       "        text-align: right;\n",
       "    }\n",
       "</style>\n",
       "<table border=\"1\" class=\"dataframe\">\n",
       "  <thead>\n",
       "    <tr style=\"text-align: right;\">\n",
       "      <th></th>\n",
       "      <th>id</th>\n",
       "      <th>category</th>\n",
       "      <th>question</th>\n",
       "      <th>context</th>\n",
       "      <th>answer</th>\n",
       "      <th>doc_len</th>\n",
       "    </tr>\n",
       "  </thead>\n",
       "  <tbody>\n",
       "    <tr>\n",
       "      <th>0</th>\n",
       "      <td>0</td>\n",
       "      <td>Regulamento</td>\n",
       "      <td>Quais são as causas para perder o vínculo com ...</td>\n",
       "      <td></td>\n",
       "      <td>São elas: não efetuar matrícula em disciplinas...</td>\n",
       "      <td>17</td>\n",
       "    </tr>\n",
       "    <tr>\n",
       "      <th>1</th>\n",
       "      <td>1</td>\n",
       "      <td>Regulamento</td>\n",
       "      <td>Quando o desvínculo acontece?</td>\n",
       "      <td></td>\n",
       "      <td>O desvínculo acontece após o último dia de imp...</td>\n",
       "      <td>4</td>\n",
       "    </tr>\n",
       "    <tr>\n",
       "      <th>2</th>\n",
       "      <td>2</td>\n",
       "      <td>Regulamento</td>\n",
       "      <td>O que é o procedimento de desvinculação?</td>\n",
       "      <td></td>\n",
       "      <td>O procedimento de desvinculação é o processo d...</td>\n",
       "      <td>7</td>\n",
       "    </tr>\n",
       "    <tr>\n",
       "      <th>3</th>\n",
       "      <td>3</td>\n",
       "      <td>Regulamento</td>\n",
       "      <td>Quanto tempo o discente tem para requerer o re...</td>\n",
       "      <td></td>\n",
       "      <td>O discente tem 10 dias úteis a contar da ciênc...</td>\n",
       "      <td>9</td>\n",
       "    </tr>\n",
       "    <tr>\n",
       "      <th>4</th>\n",
       "      <td>4</td>\n",
       "      <td>Regulamento</td>\n",
       "      <td>Onde o recurso deve ser encaminhado?</td>\n",
       "      <td></td>\n",
       "      <td>O recurso deve ser encaminhado ao Coordenador ...</td>\n",
       "      <td>6</td>\n",
       "    </tr>\n",
       "  </tbody>\n",
       "</table>\n",
       "</div>"
      ],
      "text/plain": [
       "  id     category                                           question context   \n",
       "0  0  Regulamento  Quais são as causas para perder o vínculo com ...          \\\n",
       "1  1  Regulamento                      Quando o desvínculo acontece?           \n",
       "2  2  Regulamento           O que é o procedimento de desvinculação?           \n",
       "3  3  Regulamento  Quanto tempo o discente tem para requerer o re...           \n",
       "4  4  Regulamento               Onde o recurso deve ser encaminhado?           \n",
       "\n",
       "                                              answer  doc_len  \n",
       "0  São elas: não efetuar matrícula em disciplinas...       17  \n",
       "1  O desvínculo acontece após o último dia de imp...        4  \n",
       "2  O procedimento de desvinculação é o processo d...        7  \n",
       "3  O discente tem 10 dias úteis a contar da ciênc...        9  \n",
       "4  O recurso deve ser encaminhado ao Coordenador ...        6  "
      ]
     },
     "execution_count": 4,
     "metadata": {},
     "output_type": "execute_result"
    }
   ],
   "source": [
    "df = pd.DataFrame(jsons_dict)\n",
    "df.to_csv('database_context.csv', index=False)\n",
    "df.head()"
   ]
  },
  {
   "cell_type": "code",
   "execution_count": 5,
   "metadata": {},
   "outputs": [],
   "source": [
    "model = SentenceTransformer('rufimelo/Legal-BERTimbau-sts-base')"
   ]
  },
  {
   "cell_type": "code",
   "execution_count": 6,
   "metadata": {},
   "outputs": [],
   "source": [
    "encoded_data = model.encode(df.question.tolist())\n",
    "encoded_data = np.asarray(encoded_data.astype('float32'))\n",
    "index = faiss.IndexIDMap(faiss.IndexFlatL2(768))\n",
    "index.add_with_ids(encoded_data, np.array(range(0, len(df))))\n",
    "faiss.write_index(index, 'database_context.index')"
   ]
  },
  {
   "cell_type": "code",
   "execution_count": null,
   "metadata": {},
   "outputs": [],
   "source": []
  },
  {
   "cell_type": "code",
   "execution_count": null,
   "metadata": {},
   "outputs": [],
   "source": []
  }
 ],
 "metadata": {
  "kernelspec": {
   "display_name": "cabrita",
   "language": "python",
   "name": "python3"
  },
  "language_info": {
   "codemirror_mode": {
    "name": "ipython",
    "version": 3
   },
   "file_extension": ".py",
   "mimetype": "text/x-python",
   "name": "python",
   "nbconvert_exporter": "python",
   "pygments_lexer": "ipython3",
   "version": "3.10.9"
  },
  "orig_nbformat": 4
 },
 "nbformat": 4,
 "nbformat_minor": 2
}
