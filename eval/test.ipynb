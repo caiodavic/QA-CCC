{
 "cells": [
  {
   "cell_type": "code",
   "execution_count": 1,
   "metadata": {},
   "outputs": [
    {
     "name": "stdout",
     "output_type": "stream",
     "text": [
      "\n",
      "===================================BUG REPORT===================================\n",
      "Welcome to bitsandbytes. For bug reports, please run\n",
      "\n",
      "python -m bitsandbytes\n",
      "\n",
      " and submit this information together with your error trace to: https://github.com/TimDettmers/bitsandbytes/issues\n",
      "================================================================================\n",
      "bin /home/caiosilva/Documentos/cabrita/cabrita/lib/python3.10/site-packages/bitsandbytes/libbitsandbytes_cuda118.so\n",
      "CUDA SETUP: CUDA runtime path found: /home/caiosilva/anaconda3/lib/libcudart.so.11.0\n",
      "CUDA SETUP: Highest compute capability among GPUs detected: 8.6\n",
      "CUDA SETUP: Detected CUDA version 118\n",
      "CUDA SETUP: Loading binary /home/caiosilva/Documentos/cabrita/cabrita/lib/python3.10/site-packages/bitsandbytes/libbitsandbytes_cuda118.so...\n"
     ]
    }
   ],
   "source": [
    "from generate_answers import Generator\n",
    "from search_engine import SearchEngine\n",
    "import pandas as pd"
   ]
  },
  {
   "cell_type": "code",
   "execution_count": 2,
   "metadata": {},
   "outputs": [
    {
     "data": {
      "application/vnd.jupyter.widget-view+json": {
       "model_id": "253aed5965484a9b9d50c6e92cc08d2f",
       "version_major": 2,
       "version_minor": 0
      },
      "text/plain": [
       "Loading checkpoint shards:   0%|          | 0/41 [00:00<?, ?it/s]"
      ]
     },
     "metadata": {},
     "output_type": "display_data"
    },
    {
     "name": "stderr",
     "output_type": "stream",
     "text": [
      "The tokenizer class you load from this checkpoint is not the same type as the class this function is called from. It may result in unexpected tokenization. \n",
      "The tokenizer class you load from this checkpoint is 'LLaMATokenizer'. \n",
      "The class this function is called from is 'LlamaTokenizer'.\n"
     ]
    },
    {
     "name": "stdout",
     "output_type": "stream",
     "text": [
      "Modelo tunado carregado com sucesso\n"
     ]
    }
   ],
   "source": [
    "search_engine = SearchEngine()\n",
    "generator = Generator(model_path='./model', search_engine=search_engine)"
   ]
  },
  {
   "cell_type": "code",
   "execution_count": 3,
   "metadata": {},
   "outputs": [
    {
     "data": {
      "text/html": [
       "<div>\n",
       "<style scoped>\n",
       "    .dataframe tbody tr th:only-of-type {\n",
       "        vertical-align: middle;\n",
       "    }\n",
       "\n",
       "    .dataframe tbody tr th {\n",
       "        vertical-align: top;\n",
       "    }\n",
       "\n",
       "    .dataframe thead th {\n",
       "        text-align: right;\n",
       "    }\n",
       "</style>\n",
       "<table border=\"1\" class=\"dataframe\">\n",
       "  <thead>\n",
       "    <tr style=\"text-align: right;\">\n",
       "      <th></th>\n",
       "      <th>PERGUNTA</th>\n",
       "      <th>GABARITO</th>\n",
       "      <th>Tópico</th>\n",
       "    </tr>\n",
       "  </thead>\n",
       "  <tbody>\n",
       "    <tr>\n",
       "      <th>0</th>\n",
       "      <td>Onde posso acessar a planilha de Atividades Co...</td>\n",
       "      <td>No site da graduação: https://www.computacao.u...</td>\n",
       "      <td>Atividades Complementares</td>\n",
       "    </tr>\n",
       "    <tr>\n",
       "      <th>1</th>\n",
       "      <td>Quantos créditos de Atividades Complementares ...</td>\n",
       "      <td>22 Créditos de atividades complementares são n...</td>\n",
       "      <td>Atividades Complementares</td>\n",
       "    </tr>\n",
       "    <tr>\n",
       "      <th>2</th>\n",
       "      <td>Estou trabalhando profissionalmente a 4 meses,...</td>\n",
       "      <td>A cada 75 horas de atividade profissional, voc...</td>\n",
       "      <td>Atividades Complementares</td>\n",
       "    </tr>\n",
       "    <tr>\n",
       "      <th>3</th>\n",
       "      <td>O que são atividades complementares?</td>\n",
       "      <td>Durante a graduação, o aluno do curso de Ciênc...</td>\n",
       "      <td>Atividades Complementares</td>\n",
       "    </tr>\n",
       "    <tr>\n",
       "      <th>4</th>\n",
       "      <td>Quantos créditos de Atividades Complementares ...</td>\n",
       "      <td>São aproveitados 4 créditos a cada 3 meses de ...</td>\n",
       "      <td>Atividades Complementares</td>\n",
       "    </tr>\n",
       "  </tbody>\n",
       "</table>\n",
       "</div>"
      ],
      "text/plain": [
       "                                            PERGUNTA   \n",
       "0  Onde posso acessar a planilha de Atividades Co...  \\\n",
       "1  Quantos créditos de Atividades Complementares ...   \n",
       "2  Estou trabalhando profissionalmente a 4 meses,...   \n",
       "3               O que são atividades complementares?   \n",
       "4  Quantos créditos de Atividades Complementares ...   \n",
       "\n",
       "                                            GABARITO   \n",
       "0  No site da graduação: https://www.computacao.u...  \\\n",
       "1  22 Créditos de atividades complementares são n...   \n",
       "2  A cada 75 horas de atividade profissional, voc...   \n",
       "3  Durante a graduação, o aluno do curso de Ciênc...   \n",
       "4  São aproveitados 4 créditos a cada 3 meses de ...   \n",
       "\n",
       "                      Tópico  \n",
       "0  Atividades Complementares  \n",
       "1  Atividades Complementares  \n",
       "2  Atividades Complementares  \n",
       "3  Atividades Complementares  \n",
       "4  Atividades Complementares  "
      ]
     },
     "execution_count": 3,
     "metadata": {},
     "output_type": "execute_result"
    }
   ],
   "source": [
    "validation = pd.read_csv('../validation.csv')\n",
    "validation.head()"
   ]
  },
  {
   "cell_type": "code",
   "execution_count": 4,
   "metadata": {},
   "outputs": [],
   "source": [
    "from tqdm import tqdm"
   ]
  },
  {
   "cell_type": "code",
   "execution_count": 5,
   "metadata": {},
   "outputs": [
    {
     "data": {
      "text/plain": [
       "'Com Projeto de Pesquisa você pode aproveitar até 16 créditos.\\n\\n.'"
      ]
     },
     "execution_count": 5,
     "metadata": {},
     "output_type": "execute_result"
    }
   ],
   "source": [
    "generator.generate_answer('Quantos créditos de Atividades Complementares posso aproveitar de Projeto de Pesquisa?')"
   ]
  },
  {
   "cell_type": "code",
   "execution_count": 6,
   "metadata": {},
   "outputs": [
    {
     "data": {
      "text/plain": [
       "'Qual a carga horária de Verificação e Validação de Software?'"
      ]
     },
     "execution_count": 6,
     "metadata": {},
     "output_type": "execute_result"
    }
   ],
   "source": [
    "validation['PERGUNTA'][6]"
   ]
  },
  {
   "cell_type": "code",
   "execution_count": 7,
   "metadata": {},
   "outputs": [
    {
     "data": {
      "text/plain": [
       "'A carga horária de Verificação e Validação de Software é 60 horas e 4 créditos.\\n\\n. São 60 horas e 4 créditos\\n\\n.'"
      ]
     },
     "execution_count": 7,
     "metadata": {},
     "output_type": "execute_result"
    }
   ],
   "source": [
    "generator.generate_answer(validation['PERGUNTA'][6])"
   ]
  },
  {
   "cell_type": "code",
   "execution_count": 14,
   "metadata": {},
   "outputs": [
    {
     "data": {
      "text/plain": [
       "'A cada 75 horas de atividade profissional, você terá 1 crédito. Poderá comprovar o mínimo de 4 créditos'"
      ]
     },
     "execution_count": 14,
     "metadata": {},
     "output_type": "execute_result"
    }
   ],
   "source": [
    "validation['GABARITO'][2]"
   ]
  },
  {
   "cell_type": "code",
   "execution_count": 9,
   "metadata": {},
   "outputs": [
    {
     "data": {
      "text/plain": [
       "'O caso de estágio pode ser contatado com a Coordenação de Estágios.\\n\\n.'"
      ]
     },
     "execution_count": 9,
     "metadata": {},
     "output_type": "execute_result"
    }
   ],
   "source": [
    "generator.generate_answer(validation['PERGUNTA'][11])"
   ]
  },
  {
   "cell_type": "code",
   "execution_count": 10,
   "metadata": {},
   "outputs": [
    {
     "name": "stderr",
     "output_type": "stream",
     "text": [
      "60it [54:42, 54.71s/it]\n"
     ]
    }
   ],
   "source": [
    "answers = []\n",
    "for i,r in tqdm(validation.iterrows()):\n",
    "    question = r['PERGUNTA']\n",
    "    answer = generator.generate_answer(question)\n",
    "    answers.append(answer)"
   ]
  },
  {
   "cell_type": "code",
   "execution_count": 18,
   "metadata": {},
   "outputs": [],
   "source": [
    "answers_clean = [a.split('\\n\\n')[0] for a in answers]"
   ]
  },
  {
   "cell_type": "code",
   "execution_count": 19,
   "metadata": {},
   "outputs": [],
   "source": [
    "df_answers = pd.DataFrame({'PERGUNTA':validation['PERGUNTA'],'GABARITO':validation['GABARITO'],'RESPOSTA_MODELO_TUNADO':answers_clean})"
   ]
  },
  {
   "cell_type": "code",
   "execution_count": 20,
   "metadata": {},
   "outputs": [],
   "source": [
    "df_answers.to_csv('answers.csv',index=False)"
   ]
  },
  {
   "cell_type": "code",
   "execution_count": 12,
   "metadata": {},
   "outputs": [],
   "source": [
    "PROMPT_CONTEXT = \"\"\"Abaixo está uma instrução que descreve uma tarefa sobre o curso de Ciência da Computação na Universidade Federal de Campina Grande. A instrução é sobre: [CATEGORY], juntamente com uma entrada que fornece mais contexto. Utilize as informações em ### Contexto para responder suas perguntas. Escreva uma resposta em linguagem natural e em Português que complete adequadamente o pedido.\\n\\n\n",
    "### Instrução:\\n\n",
    "[QUESTION]\\n\\n\n",
    "### Contexto: \\n\n",
    "[CONTEXT]\\n\\n\n",
    "### Resposta: \\n\"\"\""
   ]
  },
  {
   "cell_type": "code",
   "execution_count": 13,
   "metadata": {},
   "outputs": [
    {
     "data": {
      "text/plain": [
       "'Abaixo está uma instrução que descreve uma tarefa sobre o curso de Ciência da Computação na Universidade Federal de Campina Grande. A instrução é sobre: category, juntamente com uma entrada que fornece mais contexto. Utilize as informações em ### Contexto para responder suas perguntas. Escreva uma resposta em linguagem natural e em Português que complete adequadamente o pedido.\\n\\n\\n### Instrução:\\n\\nquestion\\n\\n\\n### Contexto: \\n\\ncontext\\n\\n\\n### Resposta: \\n'"
      ]
     },
     "execution_count": 13,
     "metadata": {},
     "output_type": "execute_result"
    }
   ],
   "source": [
    "PROMPT_CONTEXT.replace(\"[QUESTION]\",'question').replace(\"[CONTEXT]\",'context').replace(\"[CATEGORY]\",'category')"
   ]
  },
  {
   "cell_type": "code",
   "execution_count": null,
   "metadata": {},
   "outputs": [],
   "source": []
  }
 ],
 "metadata": {
  "kernelspec": {
   "display_name": "cabrita",
   "language": "python",
   "name": "python3"
  },
  "language_info": {
   "codemirror_mode": {
    "name": "ipython",
    "version": 3
   },
   "file_extension": ".py",
   "mimetype": "text/x-python",
   "name": "python",
   "nbconvert_exporter": "python",
   "pygments_lexer": "ipython3",
   "version": "3.10.9"
  },
  "orig_nbformat": 4
 },
 "nbformat": 4,
 "nbformat_minor": 2
}
